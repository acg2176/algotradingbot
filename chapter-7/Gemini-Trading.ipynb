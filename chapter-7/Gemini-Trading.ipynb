{
 "cells": [
  {
   "cell_type": "markdown",
   "metadata": {},
   "source": [
    "# Gemini Trading Bot"
   ]
  },
  {
   "cell_type": "code",
   "execution_count": null,
   "metadata": {},
   "outputs": [],
   "source": [
    "!pip install geminipy websocket-client elasticsearch kafka"
   ]
  },
  {
   "cell_type": "code",
   "execution_count": null,
   "metadata": {
    "collapsed": true
   },
   "outputs": [],
   "source": [
    "import json\n",
    "import pandas as pd\n",
    "from datetime import datetime, timedelta\n",
    "import time\n",
    "from geminipy import Geminipy\n",
    "from elasticsearch import Elasticsearch\n",
    "from kafka import KafkaProducer, KafkaConsumer"
   ]
  },
  {
   "cell_type": "markdown",
   "metadata": {},
   "source": [
    "### Load Forecasts"
   ]
  },
  {
   "cell_type": "code",
   "execution_count": null,
   "metadata": {
    "collapsed": true
   },
   "outputs": [],
   "source": [
    "# load in csv of forecasts\n",
    "fcst = pd.read_csv('2018_full_trade_forecast.csv')\n",
    "\n",
    "# generate a datetime field from the string timestamp `ds`\n",
    "fcst['timestamp'] = fcst.ds.apply(lambda x: datetime.strptime(x, '%Y-%m-%d %H:%M:%S'))\n",
    "\n",
    "# set the index as the timestamp so we can easily make lookups based on time\n",
    "fcst = fcst.set_index('timestamp')[['side']]"
   ]
  },
  {
   "cell_type": "code",
   "execution_count": null,
   "metadata": {},
   "outputs": [],
   "source": [
    "import random\n",
    "sides = ['buy','sell']\n",
    "now = datetime.now()\n",
    "ts_prior = datetime(year=now.year, month=now.month, day=now.day, hour=now.hour, minute=now.minute)\n",
    "ts = ts_prior + timedelta(minutes=1)\n",
    "\n",
    "for i in range(100):\n",
    "    fcst.ix[ts + timedelta(minutes=i)].side = random.choice(sides)\n",
    "    print(fcst.ix[ts + timedelta(minutes=i)].side)"
   ]
  },
  {
   "cell_type": "markdown",
   "metadata": {},
   "source": [
    "### Set up Elasticsearch"
   ]
  },
  {
   "cell_type": "code",
   "execution_count": null,
   "metadata": {
    "collapsed": true
   },
   "outputs": [],
   "source": [
    "# first set up Elasticsearch connection\n",
    "# by default we connect to elasticsearch:9200 \n",
    "# since we are running this notebook from the Spark-Node we need to use `elasticsearch` instead of `localhost`\n",
    "# as this is the name of the docker container running Elasticsearch\n",
    "es = Elasticsearch('elasticsearch:9200')\n",
    "\n",
    "# if the `gemini` index does not exist, create it\n",
    "if not es.indices.exists('gemini'):\n",
    "    es.indices.create(index='gemini')"
   ]
  },
  {
   "cell_type": "markdown",
   "metadata": {},
   "source": [
    "### Set up Kafka"
   ]
  },
  {
   "cell_type": "code",
   "execution_count": null,
   "metadata": {
    "collapsed": true
   },
   "outputs": [],
   "source": [
    "consumer = KafkaConsumer('spark.out',\n",
    "                         bootstrap_servers=['kafka-node:9092'],\n",
    "                        )"
   ]
  },
  {
   "cell_type": "markdown",
   "metadata": {},
   "source": [
    "### Set up Gemini"
   ]
  },
  {
   "cell_type": "code",
   "execution_count": null,
   "metadata": {
    "collapsed": true
   },
   "outputs": [],
   "source": [
    "gemini_api_key = 'some_key'\n",
    "gemini_api_secret = 'some_secret'"
   ]
  },
  {
   "cell_type": "markdown",
   "metadata": {},
   "source": [
    "#### Set the amount to trade\n",
    "[Gemini's minimum order size](https://docs.gemini.com/rest-api/#symbols-and-minimums) for BTC is currently 0.00001. At the time of writing that is about `$0.15`. Let's try trading at 0.0001 which is about `$1.53`."
   ]
  },
  {
   "cell_type": "code",
   "execution_count": null,
   "metadata": {
    "collapsed": true
   },
   "outputs": [],
   "source": [
    "# trade 50% of our account balance\n",
    "trade_pct = 0.5\n",
    "\n",
    "# require that price_volume threshold be between 0.1 and 2\n",
    "# this indicates that sell side volume is 1/10th and double that of buy side\n",
    "# suggesting (relatively) normal liquidity thresholds.\n",
    "# if sell side liquidity is above 2x that of the buy side we might think that \n",
    "# price may not move in the next minute.\n",
    "threshold = (0.1, 2)"
   ]
  },
  {
   "cell_type": "code",
   "execution_count": null,
   "metadata": {
    "collapsed": true
   },
   "outputs": [],
   "source": [
    "con = Geminipy(api_key=gemini_api_key, secret_key=gemini_api_secret, live=False)"
   ]
  },
  {
   "cell_type": "markdown",
   "metadata": {},
   "source": [
    "### Define functions"
   ]
  },
  {
   "cell_type": "code",
   "execution_count": null,
   "metadata": {
    "collapsed": true
   },
   "outputs": [],
   "source": [
    "def get_btc_balance(con):\n",
    "    for i in con.balances().json():\n",
    "        if i['currency'] == 'BTC':\n",
    "            i['amount'] = float(i['amount'])\n",
    "            i['available'] = float(i['available'])\n",
    "            i['availableForWithdrawal'] = float(i['availableForWithdrawal'])\n",
    "            i['doc_type'] = 'balance'\n",
    "            return i"
   ]
  },
  {
   "cell_type": "code",
   "execution_count": null,
   "metadata": {
    "collapsed": true
   },
   "outputs": [],
   "source": [
    "def get_usd_balance(con):\n",
    "    for i in con.balances().json():\n",
    "        if i['currency'] == 'USD':\n",
    "            i['amount'] = float(i['amount'])\n",
    "            i['available'] = float(i['available'])\n",
    "            i['availableForWithdrawal'] = float(i['availableForWithdrawal'])\n",
    "            i['doc_type'] = 'balance'\n",
    "            return i"
   ]
  },
  {
   "cell_type": "code",
   "execution_count": null,
   "metadata": {
    "collapsed": true
   },
   "outputs": [],
   "source": [
    "def get_ticker(con):\n",
    "    '''\n",
    "    NOTE: We need to ensure that numbers are numbers, not strings, for ES.\n",
    "    Otherwise we would need to specify a mapping.\n",
    "    '''\n",
    "    ticker = con.pubticker().json()\n",
    "    ticker['ask'] = float(ticker['ask'])\n",
    "    ticker['bid'] = float(ticker['bid'])\n",
    "    ticker['last'] = float(ticker['last'])\n",
    "    ticker['volume_BTC'] = float(ticker['volume'].pop('BTC'))\n",
    "    ticker['volume_USD'] = float(ticker['volume'].pop('USD'))\n",
    "    ticker['timestamp'] = datetime.fromtimestamp(ticker['volume'].pop('timestamp')/1000)\n",
    "    ticker.pop('volume')\n",
    "    ticker['doc_type'] = 'ticker'\n",
    "    return ticker"
   ]
  },
  {
   "cell_type": "code",
   "execution_count": null,
   "metadata": {
    "collapsed": true
   },
   "outputs": [],
   "source": [
    "def format_order(order):\n",
    "    '''\n",
    "    NOTE: We need to ensure that numbers are numbers, not strings, for ES.\n",
    "    Otherwise we would need to specify a mapping.\n",
    "    \n",
    "    Also, we convert epoch time to Python datetime which is natively recognized as a time field by ES.\n",
    "    Epoch time, without a custom mapping, would appear as a number.\n",
    "    '''\n",
    "    order_dict = order.json()\n",
    "    try:\n",
    "        order_dict['timestamp'] = datetime.fromtimestamp(int(order_dict['timestamp']))\n",
    "    except:\n",
    "        # no timestamp field, try timestampms\n",
    "        try:\n",
    "            order_dict['timestamp'] = datetime.fromtimestamp(int(order_dict['timestampms']))\n",
    "        except:\n",
    "            # no timestampms, set to now\n",
    "            order_dict['timestamp'] = datetime.now()\n",
    "    order_dict['price'] = float(order_dict['price'])\n",
    "    order_dict['original_amount'] = float(order_dict['original_amount'])\n",
    "    order_dict['remaining_amount'] = float(order_dict['remaining_amount'])\n",
    "    order_dict['avg_execution_price'] = float(order_dict['avg_execution_price'])\n",
    "    order_dict['executed_amount'] = float(order_dict['executed_amount'])\n",
    "    order_dict['doc_type'] = 'order'\n",
    "    return order_dict"
   ]
  },
  {
   "cell_type": "code",
   "execution_count": null,
   "metadata": {
    "collapsed": true
   },
   "outputs": [],
   "source": [
    "def make_order(con, amount, side, ticker):\n",
    "    # if we are buying we should take the last ask price\n",
    "    if side == 'buy':\n",
    "        bid_ask = 'ask'\n",
    "\n",
    "    # if we are selling we should take the last bid price        \n",
    "    elif side == 'sell':\n",
    "        bid_ask = 'bid'\n",
    "        \n",
    "    order = con.new_order(amount = amount, # set order amount\n",
    "                      price = ticker[bid_ask], # grab latest bid or ask price\n",
    "                      side = side, # set side (either buy/sell)\n",
    "                      options = ['immediate-or-cancel'] # take liquidity with an immediate trade\n",
    "                     )\n",
    "    # format order for Elasticsearch\n",
    "    order_dict = format_order(order)\n",
    "    \n",
    "    return order_dict"
   ]
  },
  {
   "cell_type": "code",
   "execution_count": null,
   "metadata": {
    "collapsed": true
   },
   "outputs": [],
   "source": [
    "def lookup_side(fcst):\n",
    "    # get current timestamp\n",
    "    now = datetime.now()\n",
    "    \n",
    "    # we must add 1 minute to the time we lookup\n",
    "    # this is because our forecasts are for whether we should have bought/sold in a given minute\n",
    "    # so, we want trade with our prediction in mind (hence, add 1 minute)\n",
    "    ts_prior = datetime(year=now.year, month=now.month, day=now.day, hour=now.hour, minute=now.minute)\n",
    "    ts = ts_prior + timedelta(minutes=1)\n",
    "    \n",
    "    last_fcst = fcst.ix[ts_prior].side\n",
    "    curr_fcst = fcst.ix[ts].side\n",
    "    return {'last_fcst': last_fcst, 'side': curr_fcst} # return looked up side (either buy or sell)"
   ]
  },
  {
   "cell_type": "code",
   "execution_count": null,
   "metadata": {
    "collapsed": true
   },
   "outputs": [],
   "source": [
    "def get_last_buy(es):\n",
    "    query = {\n",
    "      \"sort\" : [\n",
    "            { \"timestamp\" : {\"order\" : \"desc\"}}\n",
    "        ],\n",
    "      \"query\": {\n",
    "        \"bool\": {\n",
    "          \"must\": [\n",
    "            {\n",
    "              \"match_phrase\": {\n",
    "                \"side\": {\n",
    "                  \"query\": \"buy\"\n",
    "                }\n",
    "              }\n",
    "            }\n",
    "          ]\n",
    "        }\n",
    "      }\n",
    "    }\n",
    "\n",
    "    results = es.search(index='gemini', doc_type='gem', body=query)\n",
    "    last_buy = results['hits']['hits'][0]\n",
    "    last_price = last_buy['_source']['price']\n",
    "    return last_price"
   ]
  },
  {
   "cell_type": "code",
   "execution_count": null,
   "metadata": {
    "collapsed": true
   },
   "outputs": [],
   "source": [
    "def score_trade(es, order, balance):\n",
    "    last_price = get_last_buy(es)\n",
    "    \n",
    "    # get timestamp \n",
    "    now = datetime.now()\n",
    "    timestamp = datetime(year=now.year, month=now.month, day=now.day, hour=now.hour, minute=now.minute)\n",
    "    \n",
    "    # grab sell order price\n",
    "    curr_price = order['price']\n",
    "    profit = (curr_price - last_price) * balance\n",
    "    \n",
    "    return {'profit': profit, 'timestamp': timestamp, 'doc_type': 'score'}"
   ]
  },
  {
   "cell_type": "code",
   "execution_count": null,
   "metadata": {
    "collapsed": true
   },
   "outputs": [],
   "source": [
    "def process_msg(message, fcst, con, es, threshold, trade_pct, last_price, traded):\n",
    "    # load message as json\n",
    "    msg = json.loads(message.value)\n",
    "    \n",
    "    # convert msg epoch time to datetime\n",
    "    msg['timestamp'] = datetime.fromtimestamp(msg['timestamp'])\n",
    "    \n",
    "    # get ticker\n",
    "    ticker = get_ticker(con)\n",
    "\n",
    "    # check side from model\n",
    "    lookup = lookup_side(fcst)\n",
    "    side = lookup['side']\n",
    "    last_fcst = lookup['last_fcst']\n",
    "\n",
    "    msg['doc_type'] = msg.pop('type')\n",
    "\n",
    "    # index msg to ES\n",
    "    es.index(index='gemini', doc_type='gem', body=msg)\n",
    "    \n",
    "    # index account balance to ES\n",
    "    es.index(index='gemini', doc_type='gem',body=get_btc_balance(con))\n",
    "    \n",
    "    # index ticker data to ES\n",
    "    es.index(index=\"gemini\", doc_type='gem', body=ticker)    \n",
    "    \n",
    "    if side == 'sell':\n",
    "        balance = get_btc_balance(con)['amount']\n",
    "        if balance > 0:\n",
    "            order = make_order(con, balance, 'sell', ticker)\n",
    "            score = score_trade(es, order, balance)\n",
    "            print('Last trade yieled ${} in profit.'.format(score['profit']))\n",
    "\n",
    "            # index sell order data to ES\n",
    "            es.index(index=\"gemini\", doc_type='gem', body=order)\n",
    "            \n",
    "            # index score to ES\n",
    "            es.index(index=\"gemini\", doc_type='gem', body=score)\n",
    "        else:\n",
    "            print('No balance to sell.')\n",
    "        return ticker['last'], False\n",
    "\n",
    "    else: # buy side\n",
    "\n",
    "        # only trade if we didn't just trade\n",
    "        if not traded:\n",
    "\n",
    "            # Execute trade\n",
    "            if msg['doc_type'] == 'price_volume':\n",
    "\n",
    "                # only execute trade if price_volume within threshold\n",
    "                if msg['value'] > threshold[0] and msg['value'] < threshold[1]:\n",
    "\n",
    "                    # trade with 90% of our balance\n",
    "                    trade_amount = round((get_usd_balance(con)['available'] * trade_pct) / get_ticker(con)['last'],4)\n",
    "                    print(trade_amount)\n",
    "                    \n",
    "                    # execute order\n",
    "                    order = make_order(con, trade_amount, side, ticker)\n",
    "\n",
    "                    # index order data to ES\n",
    "                    es.index(index=\"gemini\", doc_type='gem', body=order)\n",
    "\n",
    "                    # print order\n",
    "                    order.pop('timestamp')\n",
    "                    print(json.dumps(order, sort_keys=True,\n",
    "                        indent=4, separators=(',', ': ')))\n",
    "                    print('\\n')\n",
    "\n",
    "                    return ticker['last'], True\n",
    "                else:\n",
    "                    return last_price, False\n",
    "            else:\n",
    "                return last_price, False\n",
    "        else:\n",
    "            return last_price, True"
   ]
  },
  {
   "cell_type": "code",
   "execution_count": null,
   "metadata": {
    "scrolled": true
   },
   "outputs": [],
   "source": [
    "# get last price for keeping track of performance\n",
    "last_price = get_ticker(con)['last']\n",
    "traded = False\n",
    "\n",
    "for message in consumer:\n",
    "    try:a\n",
    "        last_price, traded = process_msg(message, fcst, con, es, threshold, trade_pct, last_price, traded)\n",
    "    except Exception as e:\n",
    "        print(\"Error occurred: {}\".format(e))"
   ]
  }
 ],
 "metadata": {
  "kernelspec": {
   "display_name": "Python 3",
   "language": "python",
   "name": "python3"
  },
  "language_info": {
   "codemirror_mode": {
    "name": "ipython",
    "version": 3
   },
   "file_extension": ".py",
   "mimetype": "text/x-python",
   "name": "python",
   "nbconvert_exporter": "python",
   "pygments_lexer": "ipython3",
   "version": "3.6.2"
  }
 },
 "nbformat": 4,
 "nbformat_minor": 2
}
